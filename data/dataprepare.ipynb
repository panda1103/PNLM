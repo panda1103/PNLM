{
 "cells": [
  {
   "cell_type": "code",
   "execution_count": 1,
   "metadata": {},
   "outputs": [
    {
     "name": "stderr",
     "output_type": "stream",
     "text": [
      "d:\\Anaconda3\\envs\\pytorch-cuda12.0\\lib\\site-packages\\tqdm\\auto.py:21: TqdmWarning: IProgress not found. Please update jupyter and ipywidgets. See https://ipywidgets.readthedocs.io/en/stable/user_install.html\n",
      "  from .autonotebook import tqdm as notebook_tqdm\n"
     ]
    }
   ],
   "source": [
    "import numpy as np\n",
    "import pandas\n",
    "#import matplotlib.pyplot as plt\n",
    "import esm\n",
    "import torch\n",
    "import transformers "
   ]
  },
  {
   "cell_type": "code",
   "execution_count": 3,
   "metadata": {},
   "outputs": [
    {
     "name": "stdout",
     "output_type": "stream",
     "text": [
      "Collecting rna-fm\n",
      "  Downloading rna_fm-0.2.2-py3-none-any.whl (46 kB)\n",
      "     --------------------------------------- 46.7/46.7 kB 53.1 kB/s eta 0:00:00\n",
      "Collecting ptflops\n",
      "  Downloading ptflops-0.7.3-py3-none-any.whl (18 kB)\n",
      "Requirement already satisfied: pandas in d:\\anaconda3\\envs\\pytorch-cuda12.0\\lib\\site-packages (from rna-fm) (2.2.1)\n",
      "Requirement already satisfied: numpy in d:\\anaconda3\\envs\\pytorch-cuda12.0\\lib\\site-packages (from rna-fm) (1.26.4)\n",
      "Requirement already satisfied: scikit-learn in d:\\anaconda3\\envs\\pytorch-cuda12.0\\lib\\site-packages (from rna-fm) (1.4.1.post1)\n",
      "Requirement already satisfied: tqdm in d:\\anaconda3\\envs\\pytorch-cuda12.0\\lib\\site-packages (from rna-fm) (4.66.2)\n",
      "Requirement already satisfied: pytz>=2020.1 in d:\\anaconda3\\envs\\pytorch-cuda12.0\\lib\\site-packages (from pandas->rna-fm) (2024.1)\n",
      "Requirement already satisfied: python-dateutil>=2.8.2 in d:\\anaconda3\\envs\\pytorch-cuda12.0\\lib\\site-packages (from pandas->rna-fm) (2.9.0)\n",
      "Requirement already satisfied: tzdata>=2022.7 in d:\\anaconda3\\envs\\pytorch-cuda12.0\\lib\\site-packages (from pandas->rna-fm) (2024.1)\n",
      "Requirement already satisfied: torch in d:\\anaconda3\\envs\\pytorch-cuda12.0\\lib\\site-packages (from ptflops->rna-fm) (2.2.1+cu121)\n",
      "Requirement already satisfied: joblib>=1.2.0 in d:\\anaconda3\\envs\\pytorch-cuda12.0\\lib\\site-packages (from scikit-learn->rna-fm) (1.3.2)\n",
      "Requirement already satisfied: scipy>=1.6.0 in d:\\anaconda3\\envs\\pytorch-cuda12.0\\lib\\site-packages (from scikit-learn->rna-fm) (1.12.0)\n",
      "Requirement already satisfied: threadpoolctl>=2.0.0 in d:\\anaconda3\\envs\\pytorch-cuda12.0\\lib\\site-packages (from scikit-learn->rna-fm) (3.3.0)\n",
      "Requirement already satisfied: colorama in d:\\anaconda3\\envs\\pytorch-cuda12.0\\lib\\site-packages (from tqdm->rna-fm) (0.4.6)\n",
      "Requirement already satisfied: six>=1.5 in d:\\anaconda3\\envs\\pytorch-cuda12.0\\lib\\site-packages (from python-dateutil>=2.8.2->pandas->rna-fm) (1.16.0)\n",
      "Requirement already satisfied: fsspec in d:\\anaconda3\\envs\\pytorch-cuda12.0\\lib\\site-packages (from torch->ptflops->rna-fm) (2024.2.0)\n",
      "Requirement already satisfied: jinja2 in d:\\anaconda3\\envs\\pytorch-cuda12.0\\lib\\site-packages (from torch->ptflops->rna-fm) (3.1.3)\n",
      "Requirement already satisfied: typing-extensions>=4.8.0 in d:\\anaconda3\\envs\\pytorch-cuda12.0\\lib\\site-packages (from torch->ptflops->rna-fm) (4.10.0)\n",
      "Requirement already satisfied: networkx in d:\\anaconda3\\envs\\pytorch-cuda12.0\\lib\\site-packages (from torch->ptflops->rna-fm) (3.2.1)\n",
      "Requirement already satisfied: filelock in d:\\anaconda3\\envs\\pytorch-cuda12.0\\lib\\site-packages (from torch->ptflops->rna-fm) (3.13.1)\n",
      "Requirement already satisfied: sympy in d:\\anaconda3\\envs\\pytorch-cuda12.0\\lib\\site-packages (from torch->ptflops->rna-fm) (1.12)\n",
      "Requirement already satisfied: MarkupSafe>=2.0 in d:\\anaconda3\\envs\\pytorch-cuda12.0\\lib\\site-packages (from jinja2->torch->ptflops->rna-fm) (2.1.5)\n",
      "Requirement already satisfied: mpmath>=0.19 in d:\\anaconda3\\envs\\pytorch-cuda12.0\\lib\\site-packages (from sympy->torch->ptflops->rna-fm) (1.3.0)\n",
      "Installing collected packages: ptflops, rna-fm\n",
      "Successfully installed ptflops-0.7.3 rna-fm-0.2.2\n"
     ]
    }
   ],
   "source": [
    "! pip install rna-fm\n"
   ]
  },
  {
   "cell_type": "code",
   "execution_count": null,
   "metadata": {},
   "outputs": [],
   "source": [
    "# Load ESM-2 model\n",
    "model, alphabet = esm.pretrained.esm2_t33_650M_UR50D()\n",
    "batch_converter = alphabet.get_batch_converter()\n",
    "model.eval()  # disables dropout for deterministic results\n",
    "data = [\n",
    "    (\"protein1\", \"MKTVRQERLKSIVRILERSKEPVSGAQLAEELSVSRQVIVQDIAYLRSLGYNIVATPRGYVLAGG\")\n",
    "]\n",
    "batch_labels, batch_strs, batch_tokens = batch_converter(data)\n",
    "batch_lens = (batch_tokens != alphabet.padding_idx).sum(1)\n",
    "\n",
    "# Extract per-residue representations (on CPU)\n",
    "with torch.no_grad():\n",
    "    results = model(batch_tokens, repr_layers=[33], return_contacts=True)\n",
    "token_representations = results[\"representations\"][33]\n",
    "\n",
    "# Generate per-sequence representations via averaging\n",
    "# NOTE: token 0 is always a beginning-of-sequence token, so the first residue is token 1.\n",
    "sequence_representations = []\n",
    "for i, tokens_len in enumerate(batch_lens):\n",
    "    sequence_representations.append(token_representations[i, 1 : tokens_len - 1].mean(0))\n",
    "\n",
    "# Look at the unsupervised self-attention map contact predictions\n"
   ]
  },
  {
   "cell_type": "code",
   "execution_count": 104,
   "metadata": {},
   "outputs": [
    {
     "name": "stdout",
     "output_type": "stream",
     "text": [
      "Token embeddings: torch.Size([1, 22, 640])\n"
     ]
    }
   ],
   "source": [
    "import torch\n",
    "import fm\n",
    "\n",
    "# Load RNA-FM model\n",
    "model, alphabet = fm.pretrained.rna_fm_t12()\n",
    "batch_converter = alphabet.get_batch_converter()\n",
    "model.eval()  # disables dropout for deterministic results\n",
    "\n",
    "# Prepare data\n",
    "data = [\n",
    "    (\"RNA1\", \"GACAAACCAGAAGCCGCTCC\"),\n",
    "\n",
    "]\n",
    "batch_labels, batch_strs, batch_tokens = batch_converter(data)\n",
    "\n",
    "# Extract embeddings (on CPU)\n",
    "with torch.no_grad():\n",
    "    results = model(batch_tokens, repr_layers=[12])\n",
    "token_embeddings = results[\"representations\"][12]\n",
    "\n",
    "print(\"Token embeddings:\", token_embeddings.shape)"
   ]
  }
 ],
 "metadata": {
  "kernelspec": {
   "display_name": "pytorch-cuda12.0",
   "language": "python",
   "name": "python3"
  },
  "language_info": {
   "codemirror_mode": {
    "name": "ipython",
    "version": 3
   },
   "file_extension": ".py",
   "mimetype": "text/x-python",
   "name": "python",
   "nbconvert_exporter": "python",
   "pygments_lexer": "ipython3",
   "version": "3.10.9"
  }
 },
 "nbformat": 4,
 "nbformat_minor": 2
}
